{
 "cells": [
  {
   "cell_type": "code",
   "execution_count": null,
   "id": "d0e59d60",
   "metadata": {},
   "outputs": [],
   "source": [
    "import pandas as pd\n",
    "import ast\n",
    "import re\n",
    "import os\n",
    "from dotenv import load_dotenv\n"
   ]
  },
  {
   "cell_type": "code",
   "execution_count": null,
   "id": "3b068894",
   "metadata": {},
   "outputs": [],
   "source": [
    "df = pd.read_csv(\"./euro_cup.csv\")\n",
    "df"
   ]
  },
  {
   "cell_type": "markdown",
   "id": "260bb2ca",
   "metadata": {},
   "source": [
    "# 1. CLEAN DATA"
   ]
  },
  {
   "cell_type": "code",
   "execution_count": null,
   "id": "52dcf56e",
   "metadata": {},
   "outputs": [],
   "source": [
    "def strip_data(data, key):\n",
    "    return [value.strip() for value in data[key]]\n",
    "\n",
    "def clean_possession(data, key):\n",
    "    return [int(ps.split('%')[0]) for ps in data[key]]\n",
    "\n",
    "def load_cleaned_data(data, key, values):\n",
    "    data[key] = values\n",
    "    \n",
    "def format_events(data, key):\n",
    "    return [list(eval(str(value))) for value in data[key]]\n",
    "\n",
    "def clean_load_data(data, key, fn):\n",
    "    cleaned_values = fn(data, key)\n",
    "    load_cleaned_data(data, key, cleaned_values)"
   ]
  },
  {
   "cell_type": "markdown",
   "id": "1b12f1cf",
   "metadata": {},
   "source": [
    "## 1.1 Clean teams name"
   ]
  },
  {
   "cell_type": "code",
   "execution_count": null,
   "id": "c35b3223",
   "metadata": {},
   "outputs": [],
   "source": [
    "clean_load_data(df, 'team_name_home', strip_data)\n",
    "clean_load_data(df, 'team_name_away', strip_data)"
   ]
  },
  {
   "cell_type": "markdown",
   "id": "4a15308b",
   "metadata": {},
   "source": [
    "## 1.2 Clean possesion"
   ]
  },
  {
   "cell_type": "code",
   "execution_count": null,
   "id": "5f2a0679",
   "metadata": {},
   "outputs": [],
   "source": [
    "clean_load_data(df, 'possession_home', clean_possession)\n",
    "clean_load_data(df, 'possession_away', clean_possession)"
   ]
  },
  {
   "cell_type": "markdown",
   "id": "3e5468b7",
   "metadata": {},
   "source": [
    "## 1.3 Clean events list"
   ]
  },
  {
   "cell_type": "code",
   "execution_count": null,
   "id": "fe2f9c4d",
   "metadata": {},
   "outputs": [],
   "source": [
    "clean_load_data(df, 'events_list', format_events)"
   ]
  },
  {
   "cell_type": "markdown",
   "id": "bb76e456",
   "metadata": {},
   "source": [
    "# 2. Extract data"
   ]
  },
  {
   "cell_type": "markdown",
   "id": "8c42318f",
   "metadata": {},
   "source": [
    "## Common Functions"
   ]
  },
  {
   "cell_type": "code",
   "execution_count": null,
   "id": "0283c2bd",
   "metadata": {},
   "outputs": [],
   "source": [
    "def concat_data_frames(df_1, df_2):\n",
    "    return pd.concat([df_1, df_2])  \n",
    "\n",
    "def get_event_by_key(team, key_h, key_aw, sub_key):\n",
    "    return concat_data_frames(scores(f'{team}', f'{key_h}', f'{sub_key}',filter_events_by_home), scores(f'{team}', f'{key_aw}', f'{sub_key}', filter_events_by_aw))\n",
    "\n",
    "def string_to_number(time):\n",
    "    return int(time.split(\"'\")[0].strip())"
   ]
  },
  {
   "cell_type": "markdown",
   "id": "590a9491",
   "metadata": {},
   "source": [
    "## 2.1 Team names"
   ]
  },
  {
   "cell_type": "code",
   "execution_count": null,
   "id": "ea100067",
   "metadata": {},
   "outputs": [],
   "source": [
    "teams = list(df['team_name_home'].unique())\n",
    "teams.sort()"
   ]
  },
  {
   "cell_type": "markdown",
   "id": "31986f74",
   "metadata": {},
   "source": [
    "## 2.2 Mean Possession"
   ]
  },
  {
   "cell_type": "code",
   "execution_count": null,
   "id": "201a9b52",
   "metadata": {},
   "outputs": [],
   "source": [
    "def mean_possession_by_team(team):\n",
    "    pos_h = df[df['team_name_home'] == f'{team}']['possession_home'].sum()\n",
    "    pos_aw = df[df['team_name_away'] == f'{team}']['possession_away'].sum()\n",
    "    num_match =  df[(df['team_name_away'] == f'{team}')|(df['team_name_home'] == f'{team}')]['stage'].count()\n",
    "    mean_pos = (pos_h+pos_aw)/num_match\n",
    "    return float(mean_pos)"
   ]
  },
  {
   "cell_type": "code",
   "execution_count": null,
   "id": "959f559b",
   "metadata": {},
   "outputs": [],
   "source": [
    "mean_possession_by_team = [mean_possession_by_team(team) for team in teams]"
   ]
  },
  {
   "cell_type": "markdown",
   "id": "d47230e7",
   "metadata": {},
   "source": [
    "## 2.3 Goal scores "
   ]
  },
  {
   "cell_type": "code",
   "execution_count": null,
   "id": "b5d921f1",
   "metadata": {},
   "outputs": [],
   "source": [
    "def goals_scored(team):\n",
    "    scores_h = df[(df['team_name_home'] == f'{team}')]['team_home_score'].sum()\n",
    "    scores_aw = df[(df['team_name_away'] == f'{team}')]['team_away_score'].sum()\n",
    "    return int(scores_aw + scores_h)"
   ]
  },
  {
   "cell_type": "code",
   "execution_count": null,
   "id": "72b233d3",
   "metadata": {},
   "outputs": [],
   "source": [
    "goal_by_team = [goals_scored(team) for team in teams]"
   ]
  },
  {
   "cell_type": "markdown",
   "id": "18269bbd",
   "metadata": {},
   "source": [
    "## 2.4 Goals conceded"
   ]
  },
  {
   "cell_type": "code",
   "execution_count": null,
   "id": "f89cc4e2",
   "metadata": {},
   "outputs": [],
   "source": [
    "def goals_scored(team):\n",
    "    scores_h = df[(df['team_name_home'] == f'{team}')]['team_away_score'].sum()\n",
    "    scores_aw = df[(df['team_name_away'] == f'{team}')]['team_home_score'].sum()\n",
    "    return int(scores_aw + scores_h)"
   ]
  },
  {
   "cell_type": "code",
   "execution_count": null,
   "id": "c46557a0",
   "metadata": {},
   "outputs": [],
   "source": [
    "goal_conceded_by_team = [goals_scored(team) for team in teams]"
   ]
  },
  {
   "cell_type": "markdown",
   "id": "4f8b2e52",
   "metadata": {},
   "source": [
    "## 2.5 Penalties"
   ]
  },
  {
   "cell_type": "code",
   "execution_count": null,
   "id": "3bb22c76",
   "metadata": {},
   "outputs": [],
   "source": [
    "def penalties(team):\n",
    "    penalties_h = int(df[(df['team_name_home'] == f'{team}') & (df['pens_home_score'] != 'False')]['pens_home_score'].sum())\n",
    "    penalties_w = int(df[(df['team_name_away'] == f'{team}') & (df['pens_home_score'] != 'False')]['pens_away_score'].sum())\n",
    "    return int(penalties_h + penalties_w)"
   ]
  },
  {
   "cell_type": "code",
   "execution_count": null,
   "id": "d2697efc",
   "metadata": {},
   "outputs": [],
   "source": [
    "penalty_by_team = [penalties(team) for team in teams]"
   ]
  },
  {
   "cell_type": "markdown",
   "id": "800661fd",
   "metadata": {},
   "source": [
    "## 2.6  Total shots"
   ]
  },
  {
   "cell_type": "code",
   "execution_count": null,
   "id": "230e2f6e",
   "metadata": {},
   "outputs": [],
   "source": [
    "def shots(team):\n",
    "    shots_h = df[(df['team_name_home'] == f'{team}')]['total_shots_home'].sum()\n",
    "    shots_aw = df[(df['team_name_away'] == f'{team}')]['total_shots_away'].sum()\n",
    "    return int(shots_h + shots_aw)"
   ]
  },
  {
   "cell_type": "code",
   "execution_count": null,
   "id": "55fc739e",
   "metadata": {},
   "outputs": [],
   "source": [
    "total_shots_by_team = [shots(team) for team in teams]"
   ]
  },
  {
   "cell_type": "markdown",
   "id": "6b6a775e",
   "metadata": {},
   "source": [
    "## 2.7 Pichici"
   ]
  },
  {
   "cell_type": "code",
   "execution_count": null,
   "id": "fef12358",
   "metadata": {},
   "outputs": [],
   "source": [
    "def filter_events_by_home(sub_event):\n",
    "    return sub_event['event_team'] == 'home'\n",
    "\n",
    "def filter_events_by_aw(sub_event):\n",
    "    return sub_event['event_team'] == 'away'\n",
    "\n",
    "def parse_events(lst, fn):\n",
    "    events_h_f = []\n",
    "    for event in lst:\n",
    "        for sub_event in event:\n",
    "            if(fn(sub_event)):\n",
    "                    events_h_f.append(sub_event)\n",
    "    return events_h_f\n",
    "            \n",
    "def events_by_team(team, key):\n",
    "    return df[df[key] == f'{team}']['events_list'].values\n",
    "\n",
    "def events_filter_parsed(team, key, fn):\n",
    "    return parse_events(events_by_team(f'{team}', f'{key}') , fn)\n",
    "\n",
    "def to_data_frame(values):\n",
    "    return pd.DataFrame(values)\n",
    "\n",
    "def sub_event_by(sub_event_df, key):\n",
    "    return sub_event_df[sub_event_df['event_type'] == f'{key}']\n",
    "\n",
    "def top_scorer(lst):\n",
    "    try:\n",
    "        return lst['action_player_1'].value_counts().idxmax()\n",
    "    except ValueError:\n",
    "        return ''\n",
    "\n",
    "def data_frame(team, key, fn):\n",
    "    return to_data_frame(events_filter_parsed(f'{team}', f'{key}', fn))\n",
    "\n",
    "def scores(team, key,  sub_key, fn):\n",
    "    return sub_event_by(data_frame(f'{team}', f'{key}', fn), f'{sub_key}')"
   ]
  },
  {
   "cell_type": "code",
   "execution_count": null,
   "id": "8aa9f146",
   "metadata": {},
   "outputs": [],
   "source": [
    "top_scores_by_team = [top_scorer(get_event_by_key(f'{team}', 'team_name_home', 'team_name_away','Goal')) for team in teams]"
   ]
  },
  {
   "cell_type": "markdown",
   "id": "6656285c",
   "metadata": {},
   "source": [
    "## 2.8 Color cards"
   ]
  },
  {
   "cell_type": "code",
   "execution_count": null,
   "id": "592a3521",
   "metadata": {},
   "outputs": [],
   "source": [
    "def cards_by_color(color_card):\n",
    "    return [int(get_event_by_key(f'{team}', 'team_name_home', 'team_name_away', color_card)['event_type'].count()) for team in teams]"
   ]
  },
  {
   "cell_type": "code",
   "execution_count": null,
   "id": "9aa77137",
   "metadata": {},
   "outputs": [],
   "source": [
    "yellow_cards_by_team = cards_by_color('Yellow card')\n",
    "red_cards_by_team = cards_by_color('Red card')"
   ]
  },
  {
   "cell_type": "markdown",
   "id": "91ee130b",
   "metadata": {},
   "source": [
    "## 2.9 Extra time"
   ]
  },
  {
   "cell_type": "code",
   "execution_count": null,
   "id": "0c50c0a3",
   "metadata": {},
   "outputs": [],
   "source": [
    "def df_event_time_formated(team, key, fn):\n",
    "    edf = data_frame(team, key, fn)\n",
    "    edf['event_time'] = [string_to_number(time) if (time != False) else 0 for time in edf['event_time']]\n",
    "    return edf\n",
    "   \n",
    "def count_match_ex_time(e_h_df, e_aw_df):\n",
    "    return len(e_h_df[e_h_df['event_time'] > 100]) + len(e_aw_df[e_aw_df['event_time'] > 100])\n",
    "\n",
    "def get_events_by_match(team, key):\n",
    "    events_by_match_h = list(events_by_team(f'{team}', f'{key}'))\n",
    "\n",
    "def count_match_with_extra_time(match):\n",
    "    count = 0\n",
    "    for events in match:\n",
    "        df_by_match = to_data_frame(events)\n",
    "        df_by_match['event_time'] = [string_to_number(time) if (time != False) else 0 for time in df_by_match['event_time']]\n",
    "        if len(df_by_match[df_by_match['event_time'] > 110]) > 0 : count +=1\n",
    "    return count\n",
    "    \n",
    "def get_extra_time(team):\n",
    "    events_by_match_h = list(events_by_team(f'{team}', 'team_name_home'))\n",
    "    events_by_match_aw = list(events_by_team(f'{team}', 'team_name_away'))\n",
    "    \n",
    "    count_home = count_match_with_extra_time(events_by_match_h)\n",
    "    count_away = count_match_with_extra_time(events_by_match_aw)\n",
    "  \n",
    "    return count_home + count_away\n",
    "\n",
    "extra_times_by_team = [get_extra_time(team) for team in teams]"
   ]
  },
  {
   "cell_type": "markdown",
   "id": "e410ec6e",
   "metadata": {},
   "source": [
    "# 3 Extract data from Apis"
   ]
  },
  {
   "cell_type": "code",
   "execution_count": null,
   "id": "ab98e373",
   "metadata": {},
   "outputs": [],
   "source": [
    "import requests\n",
    "import json\n",
    "import time\n",
    "load_dotenv()\n",
    "\n",
    "def get_api_token(key):\n",
    "    return os.getenv(key)\n",
    "\n",
    "def request_to_api(url, api_token):\n",
    "    response = requests.get(url, headers={'X-Auth-Token': api_token})\n",
    "    return response.json()\n",
    "\n",
    "def json_to_dic(value):\n",
    "    data = json.dumps(value)\n",
    "    return json.loads(data)"
   ]
  },
  {
   "cell_type": "markdown",
   "id": "03f47ea9",
   "metadata": {},
   "source": [
    "## 3.1 Players From API"
   ]
  },
  {
   "cell_type": "code",
   "execution_count": null,
   "id": "df62e8f4",
   "metadata": {},
   "outputs": [],
   "source": [
    "api_token = get_api_token('FOOTBALL_DATA_TOKEN')\n",
    "response = request_to_api('https://api.football-data.org/v2/competitions/2018/teams', api_token)"
   ]
  },
  {
   "cell_type": "code",
   "execution_count": null,
   "id": "f7e61121",
   "metadata": {},
   "outputs": [],
   "source": [
    "dc = json_to_dic(response)\n",
    "teams_id = [{'name': team['shortName'], 'id': team['id']} for team in dc['teams']]"
   ]
  },
  {
   "cell_type": "code",
   "execution_count": null,
   "id": "7043f4d4",
   "metadata": {},
   "outputs": [],
   "source": [
    "def get_players_by_team(team):\n",
    "    team_id = team['id']\n",
    "    url_teams = f'http://api.football-data.org/v2/teams/{team_id}'\n",
    "    res_teams = requests.get(url_teams, headers={'X-Auth-Token': api_token})\n",
    "    res_teams_json = res_teams.json()\n",
    "    dc = json.loads(json.dumps(res_teams_json))\n",
    "    team.update({'squad': dc['squad']})\n",
    "    return team"
   ]
  },
  {
   "cell_type": "code",
   "execution_count": null,
   "id": "e49732eb",
   "metadata": {},
   "outputs": [],
   "source": [
    "def get_all_players():\n",
    "    section_low = 0\n",
    "    section_gt = 8\n",
    "    all_players = []\n",
    "    for _ in range(3):\n",
    "        all_players += [get_players_by_team(team) for team in teams_id[section_low:section_gt]]\n",
    "        time.sleep(60)\n",
    "        section_low += 8\n",
    "        section_gt += 8\n",
    "    return all_players"
   ]
  },
  {
   "cell_type": "code",
   "execution_count": null,
   "id": "b5b3a86d",
   "metadata": {},
   "outputs": [],
   "source": [
    "all_players = get_all_players()"
   ]
  },
  {
   "cell_type": "code",
   "execution_count": null,
   "id": "c6f9754a",
   "metadata": {},
   "outputs": [],
   "source": [
    "def clean_all_players(squads):\n",
    "    all_squad_cleaned = []\n",
    "    for squad in squads:\n",
    "        squad_cleaned =  { 'name': squad['name'], 'id': squad['id'], 'squad': squad['squad'] }\n",
    "        all_squad_cleaned.append(squad_cleaned)\n",
    "    return all_squad_cleaned"
   ]
  },
  {
   "cell_type": "code",
   "execution_count": null,
   "id": "143ec15e",
   "metadata": {},
   "outputs": [],
   "source": [
    "squad_cleaned = clean_all_players(all_players)"
   ]
  },
  {
   "cell_type": "markdown",
   "id": "f68374d1",
   "metadata": {},
   "source": [
    "# Create stadistics document"
   ]
  },
  {
   "cell_type": "code",
   "execution_count": null,
   "id": "f984a97c",
   "metadata": {},
   "outputs": [],
   "source": [
    "def add_stadistic(data, idx):\n",
    "    return data[idx]\n",
    "\n",
    "def crate_stadistics_document(idx):\n",
    "    return {\n",
    "        \"team\": add_stadistic(teams, idx),\n",
    "        \"mean_possession\": add_stadistic(mean_possession_by_team, idx),\n",
    "        \"goal_scored\": add_stadistic(goal_by_team, idx),\n",
    "        \"goal_conceded\": add_stadistic(goal_conceded_by_team, idx),\n",
    "        \"penalties\": add_stadistic(penalty_by_team, idx),\n",
    "        \"shots\": add_stadistic(total_shots_by_team, idx),\n",
    "        \"top_scored\": add_stadistic(top_scores_by_team, idx),\n",
    "        \"yellow_cards\": add_stadistic(mean_possession_by_team, idx),\n",
    "        \"red_cards\": add_stadistic(red_cards_by_team, idx),\n",
    "        \"extra_times\": add_stadistic(extra_times_by_team, idx),\n",
    "    }"
   ]
  },
  {
   "cell_type": "code",
   "execution_count": null,
   "id": "d0ba0af1",
   "metadata": {},
   "outputs": [],
   "source": [
    "teams_document = [crate_stadistics_document(idx) for idx, value in enumerate(teams)]"
   ]
  },
  {
   "cell_type": "markdown",
   "id": "5dcd758d",
   "metadata": {},
   "source": [
    "## Clean team_stadisctis"
   ]
  },
  {
   "cell_type": "code",
   "execution_count": null,
   "id": "44ac57c7",
   "metadata": {},
   "outputs": [],
   "source": [
    "def remove_id_from_squads(players):\n",
    "    for squad in players:\n",
    "        if '_id' in squad.keys():\n",
    "            del squad['_id']\n",
    "    return players"
   ]
  },
  {
   "cell_type": "markdown",
   "id": "7e39c9fb",
   "metadata": {},
   "source": [
    "## Save Stadistics in Database"
   ]
  },
  {
   "cell_type": "code",
   "execution_count": null,
   "id": "1cf864fd",
   "metadata": {},
   "outputs": [],
   "source": [
    "response = requests.post('http://localhost:8000/stadistics/', json=teams_document)"
   ]
  },
  {
   "cell_type": "markdown",
   "id": "1e2a7e7c",
   "metadata": {},
   "source": [
    "## Save Players in Database"
   ]
  },
  {
   "cell_type": "code",
   "execution_count": null,
   "id": "82b9143a",
   "metadata": {},
   "outputs": [],
   "source": [
    "response = requests.post('http://localhost:8000/squads/', json=squad_cleaned)"
   ]
  },
  {
   "cell_type": "markdown",
   "id": "f4dbd6d5",
   "metadata": {},
   "source": [
    "# Web Scraping players stadistics"
   ]
  },
  {
   "cell_type": "code",
   "execution_count": null,
   "id": "fb790f4b",
   "metadata": {},
   "outputs": [],
   "source": [
    "from bs4 import BeautifulSoup\n",
    "\n",
    "def request_to_api_text(url, api_token):\n",
    "    response = requests.get(url, headers={'X-Auth-Token': api_token})\n",
    "    return response.text"
   ]
  },
  {
   "cell_type": "code",
   "execution_count": null,
   "id": "895c7887",
   "metadata": {},
   "outputs": [],
   "source": [
    "res = request_to_api_text('https://es.uefa.com/uefaeuro-2020/teams/players/250063984--leroy-sane/statistics/', api_token)"
   ]
  },
  {
   "cell_type": "markdown",
   "id": "1487100f",
   "metadata": {},
   "source": [
    "## Player stadistics Midfielder"
   ]
  },
  {
   "cell_type": "code",
   "execution_count": null,
   "id": "43042ea0",
   "metadata": {},
   "outputs": [],
   "source": [
    "url_teams = 'https://es.uefa.com/uefaeuro-2020/teams/'\n",
    "res = request_to_api_text(url_teams, api_token)"
   ]
  },
  {
   "cell_type": "code",
   "execution_count": null,
   "id": "8bd2b411",
   "metadata": {},
   "outputs": [],
   "source": [
    "html_tams = BeautifulSoup(res)"
   ]
  },
  {
   "cell_type": "code",
   "execution_count": null,
   "id": "d0659403",
   "metadata": {},
   "outputs": [],
   "source": [
    "def get_teams_id():\n",
    "    teams_url = html_tams.select('div.history-clubs-list > a', href=True)\n",
    "    all_teams_url = [team_url['href'] for team_url in teams_url]\n",
    "    teams_id = [re.search('[0-9]+--[a-z]+', team_url).group() for team_url in all_teams_url ]\n",
    "    return [f'https://es.uefa.com/uefaeuro-2020/teams/{team_id}/squad/' for team_id in teams_id]"
   ]
  },
  {
   "cell_type": "code",
   "execution_count": null,
   "id": "5b5be944",
   "metadata": {},
   "outputs": [],
   "source": [
    "def get_players_id(team_squad_url):\n",
    "    res_team_squad = request_to_api_text(team_squad_url, api_token)\n",
    "    players_html = BeautifulSoup(res_team_squad)\n",
    "    players = players_html.select('td.squad--player-headshot a')\n",
    "    players_id =  [f'https://es.uefa.com{player[\"href\"]}' for player in players]\n",
    "    players_id = list(dict.fromkeys(players_id))\n",
    "    return players_id"
   ]
  },
  {
   "cell_type": "code",
   "execution_count": null,
   "id": "4e10645c",
   "metadata": {},
   "outputs": [],
   "source": [
    "def get_html_player(complete_player_url):\n",
    "    res_player = request_to_api_text(complete_player_url, api_token)\n",
    "    return BeautifulSoup(res_player)\n",
    "\n",
    "def get_player_position(complete_player_url):\n",
    "    html_player = get_html_player(complete_player_url)\n",
    "    position_html = html_player.select('span.player-header_category')[0]\n",
    "    return position_html.get_text()"
   ]
  },
  {
   "cell_type": "code",
   "execution_count": null,
   "id": "ec782539",
   "metadata": {},
   "outputs": [],
   "source": [
    "def extract_by_reg(pattern, string):\n",
    "    return re.sub(pattern,'', string)\n",
    "\n",
    "def stadistics_key(idx):\n",
    "    keys = ['matchs', 'min', 'goals', 'cards', 'foul', 'passing_precision', 'shots', 'assists', 'duels', 'recovered_balls', 'max_speed', 'distance']\n",
    "    return keys[idx]\n",
    "\n",
    "def parse_to_key_value(sub_str, idx):\n",
    "    return (stadistics_key(idx), extract_by_reg('[a-zA-Z]', sub_str).strip())\n",
    "    \n",
    "def scrape_statdistics(document):\n",
    "    table = document.select('div.box-content.clearfix')[0]\n",
    "    stadistic_player_table = table.select('div.field.field-xs-small')[0:12]\n",
    "    return [e.get_text(strip=True) for e in stadistic_player_table]\n",
    "\n",
    "def format_value(dic, key, pattern):\n",
    "    val = dic[key]\n",
    "    res = re.search(pattern, val)\n",
    "    return res.group()\n",
    "    \n",
    "def replace_dc_data(dc, key, value):\n",
    "    dc[key] = value\n",
    "    return dc\n",
    "\n",
    "def replace_specific_data(dc):\n",
    "    try:\n",
    "        replace_dc_data(dc,'passing_precision', format_value(dc, 'passing_precision', '[0-9]{2}%').split('%')[0])\n",
    "        replace_dc_data(dc,'max_speed', format_value(dc, 'max_speed', '[0-9]+,?[0-9]*').replace(',','.'))\n",
    "        replace_dc_data(dc,'distance', format_value(dc, 'distance', '[0-9]+').replace(',','.'))\n",
    "        replace_dc_data(dc,'min', format_value(dc, 'min', '[0-9]+'))\n",
    "    except:\n",
    "        return dc\n",
    "    return dc\n",
    "    \n",
    "def parse_to_float(dc):\n",
    "    for key, value in dc.items():\n",
    "        dc[key] = float(value)\n",
    "    return dc\n",
    "\n",
    "def create_stadistics_dict(document):\n",
    "    keys_values = [parse_to_key_value(sub_str, idx) for idx, sub_str in enumerate(scrape_statdistics(document))]\n",
    "    return dict(keys_values)\n",
    "\n",
    "def have_stadistics(html_player):\n",
    "    table = html_player.select('div.box-content.clearfix')[0]\n",
    "    return len(table.select('div.field.field-xs-small')[0:12]) > 0\n",
    "\n",
    "def get_player_stadistics(html_player):\n",
    "    if have_stadistics(html_player):\n",
    "        dc = create_stadistics_dict(html_player)\n",
    "        dc = replace_specific_data(dc)\n",
    "        dc = parse_to_float(dc)\n",
    "        return dc"
   ]
  },
  {
   "cell_type": "code",
   "execution_count": null,
   "id": "52dd5393",
   "metadata": {},
   "outputs": [],
   "source": [
    "def get_html_url_players(complete_players_url):\n",
    "    return [(get_html_player(player_url), player_url) for player_url in complete_players_url]"
   ]
  },
  {
   "cell_type": "code",
   "execution_count": null,
   "id": "bfca0567",
   "metadata": {},
   "outputs": [],
   "source": [
    "def get_all_player_stadistics(html_url_players):\n",
    "    return [get_player_stadistics(html_url_player[0]) for html_url_player in html_url_players if get_player_position(html_url_player[1]) == 'Centrocampista' ]"
   ]
  },
  {
   "cell_type": "code",
   "execution_count": null,
   "id": "59645fab",
   "metadata": {},
   "outputs": [],
   "source": [
    "all_teams_url = get_teams_id()"
   ]
  },
  {
   "cell_type": "code",
   "execution_count": null,
   "id": "893e1fbc",
   "metadata": {},
   "outputs": [],
   "source": [
    "all_players_id = [get_players_id(team_id) for team_id in all_teams_url]"
   ]
  },
  {
   "cell_type": "code",
   "execution_count": null,
   "id": "347575f5",
   "metadata": {},
   "outputs": [],
   "source": [
    "flat_all_players_id = [item for sublist in all_players_id for item in sublist]"
   ]
  },
  {
   "cell_type": "code",
   "execution_count": null,
   "id": "b325313e",
   "metadata": {},
   "outputs": [],
   "source": [
    "all_html_url_players_tuple= get_html_url_players(flat_all_players_id)"
   ]
  },
  {
   "cell_type": "code",
   "execution_count": null,
   "id": "4f475413",
   "metadata": {},
   "outputs": [],
   "source": [
    "list_of_stadistics = get_all_player_stadistics(all_html_url_players_tuple)"
   ]
  }
 ],
 "metadata": {
  "kernelspec": {
   "display_name": "Python 3",
   "language": "python",
   "name": "python3"
  },
  "language_info": {
   "codemirror_mode": {
    "name": "ipython",
    "version": 3
   },
   "file_extension": ".py",
   "mimetype": "text/x-python",
   "name": "python",
   "nbconvert_exporter": "python",
   "pygments_lexer": "ipython3",
   "version": "3.9.5"
  }
 },
 "nbformat": 4,
 "nbformat_minor": 5
}
